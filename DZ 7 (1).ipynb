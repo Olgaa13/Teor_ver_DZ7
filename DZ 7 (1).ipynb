{
 "cells": [
  {
   "cell_type": "code",
   "execution_count": 2,
   "id": "d47ca731",
   "metadata": {},
   "outputs": [],
   "source": [
    "import numpy as np\n",
    "import scipy.stats as stats\n",
    "\n",
    "\n",
    "# 1 ) Даны две  независимые выборки. Не соблюдается условие нормальности\n",
    "# x1  380,420, 290\n",
    "# y1 140,360,200,900\n",
    "# Сделайте вывод по результатам, полученным с помощью функции"
   ]
  },
  {
   "cell_type": "code",
   "execution_count": 3,
   "id": "10ee1047",
   "metadata": {},
   "outputs": [
    {
     "data": {
      "text/plain": [
       "MannwhitneyuResult(statistic=8.0, pvalue=0.6285714285714286)"
      ]
     },
     "execution_count": 3,
     "metadata": {},
     "output_type": "execute_result"
    }
   ],
   "source": [
    "x1 = np.array([380,420,290])\n",
    "y1 = np.array([140,360,200,900])\n",
    "alpha = 0.05\n",
    "stats.mannwhitneyu(x1, y1)"
   ]
  },
  {
   "cell_type": "code",
   "execution_count": 5,
   "id": "d1b8eac1",
   "metadata": {},
   "outputs": [],
   "source": [
    "# pvalue=0.6285714285714286 > alpha, применяем нулевую гипотезу. Статистически значимых различий нет. "
   ]
  },
  {
   "cell_type": "code",
   "execution_count": 6,
   "id": "df6fb889",
   "metadata": {},
   "outputs": [
    {
     "data": {
      "text/plain": [
       "FriedmanchisquareResult(statistic=9.578947368421062, pvalue=0.00831683351100441)"
      ]
     },
     "execution_count": 6,
     "metadata": {},
     "output_type": "execute_result"
    }
   ],
   "source": [
    "# 2 )Исследовалось влияние препарата на уровень давления пациентов.\n",
    "# Сначала измерялось давление до приема препарата, потом через 10 минут и через 30 минут. \n",
    "# Есть ли статистически значимые различия?\n",
    "# 1е измерение до приема препарата: 150, 160, 165, 145, 155\n",
    "# 2е измерение через 10 минут: 140, 155, 150,  130, 135\n",
    "# 3е измерение через 30 минут: 130, 130, 120, 130, 125\n",
    "\n",
    "x1 = np.array([150, 160, 165, 145, 155])\n",
    "x2 = np.array([140, 155, 150, 130, 135])\n",
    "x3 = np.array([130, 130, 120, 130, 125])\n",
    "alpha = 0.05\n",
    "stats.friedmanchisquare(x1, x2, x3)"
   ]
  },
  {
   "cell_type": "code",
   "execution_count": 7,
   "id": "31b9fd96",
   "metadata": {},
   "outputs": [],
   "source": [
    "# pvalue=0.00831683351100441 < alpha, применяем альтернативную гипотезу. Статистически значимые различия есть. \n",
    "# Исследование показало, что препарат влияет на уровень давления пациентов."
   ]
  },
  {
   "cell_type": "code",
   "execution_count": 8,
   "id": "3cf6ec4b",
   "metadata": {},
   "outputs": [
    {
     "data": {
      "text/plain": [
       "WilcoxonResult(statistic=0.0, pvalue=0.0625)"
      ]
     },
     "execution_count": 8,
     "metadata": {},
     "output_type": "execute_result"
    }
   ],
   "source": [
    "# 3 )Сравните 1 и 2 е измерения, предполагая, что 3го измерения через 30 минут не было.\n",
    "\n",
    "x1 = np.array([150, 160, 165, 145, 155])\n",
    "x2 = np.array([140, 155, 150, 130, 135])\n",
    "alpha = 0.05\n",
    "stats.wilcoxon(x1, x2)"
   ]
  },
  {
   "cell_type": "code",
   "execution_count": 9,
   "id": "16da1fb2",
   "metadata": {},
   "outputs": [],
   "source": [
    "# pvalue=0.0625 > alpha, применяем нулевую гипотезу. Статистически значимых различий нет. \n",
    "# Исследование показало, что препарат не влияет на уровень давления пациентов."
   ]
  },
  {
   "cell_type": "code",
   "execution_count": 10,
   "id": "e9219b27",
   "metadata": {},
   "outputs": [
    {
     "data": {
      "text/plain": [
       "KruskalResult(statistic=5.465564058257224, pvalue=0.0650380998590494)"
      ]
     },
     "execution_count": 10,
     "metadata": {},
     "output_type": "execute_result"
    }
   ],
   "source": [
    "# 4)Даны 3 группы  учеников плавания.\n",
    "# В 1 группе время на дистанцию 50 м составляют: 56, 60, 62, 55, 71, 67, 59, 58, 64, 67\n",
    "# Вторая группа : 57, 58, 69, 48, 72, 70, 68, 71, 50, 53\n",
    "# Третья группа: 57, 67, 49, 48, 47, 55, 66, 51, 54\n",
    "\n",
    "\n",
    "x1 = np.array([56, 60, 62, 55, 71, 67, 59, 58, 64, 67])\n",
    "x2 = np.array([57, 58, 69, 48, 72, 70, 68, 71, 50, 53])\n",
    "x3 = np.array([57, 67, 49, 48, 47, 55, 66, 51, 54])\n",
    "alpha = 0.05\n",
    "stats.kruskal(x1, x2, x3)\n"
   ]
  },
  {
   "cell_type": "code",
   "execution_count": 11,
   "id": "c8d1ffab",
   "metadata": {},
   "outputs": [],
   "source": [
    "# pvalue=0.0650380998590494 > alpha, применяем нулевую гипотезу. Статистически значимых различий нет. \n",
    "# Время на дистанцию 50 м одинаковое."
   ]
  },
  {
   "cell_type": "code",
   "execution_count": 17,
   "id": "cf6b3013",
   "metadata": {},
   "outputs": [
    {
     "data": {
      "text/plain": [
       "(2.5279999999999996, 0.1572542173961923)"
      ]
     },
     "execution_count": 17,
     "metadata": {},
     "output_type": "execute_result"
    }
   ],
   "source": [
    "# 5) Заявляется, что партия изготавливается со средним арифметическим 2,5 см. \n",
    "# Проверить данную гипотезу, если известно, что размеры изделий подчинены нормальному закону распределения.\n",
    "# Объем выборки 10, уровень статистической значимости 5%\n",
    "# 2.51, 2.35, 2.74, 2.56, 2.40, 2.36, 2.65, 2.7, 2.67, 2.34\n",
    "\n",
    "weights = np.array([2.51, 2.35, 2.74, 2.56, 2.40, 2.36, 2.65, 2.7, 2.67, 2.34])\n",
    "n = 10\n",
    "mean = weights.mean()  #среднее арифметическое\n",
    "std = weights.std(ddof=1)\n",
    "mean, std"
   ]
  },
  {
   "cell_type": "code",
   "execution_count": 18,
   "id": "ba3e5f2a",
   "metadata": {},
   "outputs": [
    {
     "data": {
      "text/plain": [
       "0.5630613661802959"
      ]
     },
     "execution_count": 18,
     "metadata": {},
     "output_type": "execute_result"
    }
   ],
   "source": [
    "# Поскольку мы проверяем гипотезу относительно математического ожидания нормально распределённой \n",
    "# случайной величины с неизвестной дисперсией, будем использовать t-критерий.\n",
    "t = (mean-2.5)/(std/np.sqrt(n))\n",
    "t"
   ]
  },
  {
   "cell_type": "code",
   "execution_count": 19,
   "id": "6049c5a6",
   "metadata": {},
   "outputs": [
    {
     "data": {
      "text/plain": [
       "2.2621571627409915"
      ]
     },
     "execution_count": 19,
     "metadata": {},
     "output_type": "execute_result"
    }
   ],
   "source": [
    "# Доверительная вероятность 0.05, число степеней свободы: n - 1 = 9\n",
    "# по таблице Стьюдента находим критическое: \n",
    "\n",
    "stats.t.ppf(0.975, 9)    #9 степеней свободы"
   ]
  },
  {
   "cell_type": "code",
   "execution_count": null,
   "id": "aa5f4dd4",
   "metadata": {},
   "outputs": [],
   "source": [
    "# расчетное значение = 0.5630613661802959 > t-наблюдаемого  = 2.2621571627409915\n",
    "# Принимаем нулевую гипотезу, на уровне статистической значимости 5% статистически значимых различий нет. "
   ]
  }
 ],
 "metadata": {
  "kernelspec": {
   "display_name": "Python 3 (ipykernel)",
   "language": "python",
   "name": "python3"
  },
  "language_info": {
   "codemirror_mode": {
    "name": "ipython",
    "version": 3
   },
   "file_extension": ".py",
   "mimetype": "text/x-python",
   "name": "python",
   "nbconvert_exporter": "python",
   "pygments_lexer": "ipython3",
   "version": "3.9.13"
  }
 },
 "nbformat": 4,
 "nbformat_minor": 5
}
